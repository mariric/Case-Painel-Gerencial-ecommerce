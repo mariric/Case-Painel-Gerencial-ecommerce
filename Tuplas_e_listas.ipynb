{
  "nbformat": 4,
  "nbformat_minor": 0,
  "metadata": {
    "colab": {
      "provenance": [],
      "authorship_tag": "ABX9TyMOt4kPIBuGN6DVcp3Y481S",
      "include_colab_link": true
    },
    "kernelspec": {
      "name": "python3",
      "display_name": "Python 3"
    },
    "language_info": {
      "name": "python"
    }
  },
  "cells": [
    {
      "cell_type": "markdown",
      "metadata": {
        "id": "view-in-github",
        "colab_type": "text"
      },
      "source": [
        "<a href=\"https://colab.research.google.com/github/mariric/Case-Painel-Gerencial-ecommerce/blob/main/Tuplas_e_listas.ipynb\" target=\"_parent\"><img src=\"https://colab.research.google.com/assets/colab-badge.svg\" alt=\"Open In Colab\"/></a>"
      ]
    },
    {
      "cell_type": "markdown",
      "source": [
        "Tuplas"
      ],
      "metadata": {
        "id": "P9C4TMK5i2uU"
      }
    },
    {
      "cell_type": "code",
      "execution_count": null,
      "metadata": {
        "colab": {
          "base_uri": "https://localhost:8080/"
        },
        "id": "YQhoBGDQedJY",
        "outputId": "9fc3ab38-1d7a-4bd0-bac9-e0fad96c111b"
      },
      "outputs": [
        {
          "output_type": "execute_result",
          "data": {
            "text/plain": [
              "(2, 4, 4, 6, 8, 10, 12, 1, 3, 5, 7, 9, 11)"
            ]
          },
          "metadata": {},
          "execution_count": 16
        }
      ],
      "source": [
        "t1 = (1,3,5,7,9,11)\n",
        "t2 = (2,4,4,6,8,10,12)\n",
        "\n",
        "len(t1) # contagem de quantidade de itens na tupla\n",
        "sorted(t1) # ordenação da tupla\n",
        "\n",
        "t2.count(2) #contagem de repetição do item na tupla\n",
        "t2.index(4) # posição do item na tupla\n",
        "posicao = t2.index(4) # primeito o item e depois a posição inicial da contagem\n",
        "t2 + t1 #concatenar tuplas\n"
      ]
    },
    {
      "cell_type": "code",
      "source": [
        "# Lista de itens do cardápio\n",
        "cardapio = [\n",
        "    \"Pizza\",\n",
        "    \"Hamburguer\",\n",
        "    \"Pasta\",\n",
        "    \"Sushi\",\n",
        "    \"Salada\",\n",
        "    \"Frango Frito\",\n",
        "    \"Bife\",\n",
        "    \"Sopa\",\n",
        "    \"Feijão Tropeiro\",\n",
        "    \"Arroz com Peixe\"\n",
        "]\n",
        "\n",
        "\n",
        "cardapio.sort()\n",
        "\n",
        "\n",
        "print(\"Cardápio em ordem alfabética:\")\n",
        "for item in cardapio:\n",
        "    print(item)\n",
        "\n",
        "\n",
        "comida = input(\"\\nDigite o nome de uma comida para saber sua posição no cardápio: \")\n",
        "\n",
        "\n",
        "if comida in cardapio:\n",
        "    posicao = cardapio.index(comida) + 1\n",
        "    print(f'A comida \"{comida}\" está na posição {posicao} do cardápio.')\n",
        "else:\n",
        "    print(f'A comida \"{comida}\" não está no cardápio.')\n"
      ],
      "metadata": {
        "colab": {
          "base_uri": "https://localhost:8080/"
        },
        "id": "pjyLKrl-tEW_",
        "outputId": "3723b00c-c160-4305-8416-5375e565e2b4"
      },
      "execution_count": null,
      "outputs": [
        {
          "output_type": "stream",
          "name": "stdout",
          "text": [
            "Cardápio em ordem alfabética:\n",
            "Arroz com Peixe\n",
            "Bife\n",
            "Feijão Tropeiro\n",
            "Frango Frito\n",
            "Hamburguer\n",
            "Pasta\n",
            "Pizza\n",
            "Salada\n",
            "Sopa\n",
            "Sushi\n",
            "\n",
            "Digite o nome de uma comida para saber sua posição no cardápio: Sopa\n",
            "A comida \"Sopa\" está na posição 9 do cardápio.\n"
          ]
        }
      ]
    },
    {
      "cell_type": "code",
      "source": [
        "# Tupla com o cardápio: produto, preço, produto, preço, ...\n",
        "t1 = ('Doce', 2.3, 'Bala ', 0.15, 'Pizza ', 28.9, 'Arroz ', 4.5, 'Paçoca ', 0.5, 'Pamonha', 5.4)\n",
        "\n",
        "# Exibe o cardápio organizado\n",
        "print(\"Cardápio:\\n\")\n",
        "for i in range(0, len(t1), 2):  # Começa do índice 0, vai até o final, pulando de 2 em 2\n",
        "    produto = t1[i].strip()  # Remove espaços extras nos nomes dos produtos\n",
        "    preco = t1[i + 1]       # Preço está no índice i + 1\n",
        "    print(f'{produto}: R${preco:.2f}')\n",
        "\n",
        "# Variável que armazenará o valor total do pedido\n",
        "soma = 0\n",
        "\n",
        "# Função para processar o pedido do usuário\n",
        "while True:\n",
        "    # Solicita ao usuário para escolher um item\n",
        "    item = input(\"\\nDigite o nome do item que você deseja comprar: \").strip()\n",
        "\n",
        "    # Verifica se o item está no cardápio\n",
        "    item_encontrado = False\n",
        "    for i in range(0, len(t1), 2):\n",
        "        produto = t1[i].strip()\n",
        "        preco = t1[i + 1]\n",
        "        if produto.lower() == item.lower():  # Compara sem considerar maiúsculas/minúsculas\n",
        "            soma += preco  # Adiciona o preço do item à soma\n",
        "            item_encontrado = True\n",
        "            print(f'Você adicionou {produto} ao seu pedido. Preço: R${preco:.2f}')\n",
        "            break\n",
        "\n",
        "    # Caso o item não seja encontrado\n",
        "    if not item_encontrado:\n",
        "        print(\"Item não encontrado no cardápio. Tente novamente.\")\n",
        "        continue\n",
        "\n",
        "    # Pergunta se o usuário deseja adicionar mais itens\n",
        "    continuar = input(\"Você quer adicionar algo a mais? (sim/não): \").strip().lower()\n",
        "    if continuar != 'sim':\n",
        "        break\n",
        "\n",
        "# Exibe o valor total da conta\n",
        "print(f\"\\nO valor total da sua conta é: R${soma:.2f}\")\n"
      ],
      "metadata": {
        "id": "1hWPsE2Sx7CA",
        "outputId": "191cdccf-d745-4c0c-e3ba-d7d2cb0a4ab0",
        "colab": {
          "base_uri": "https://localhost:8080/"
        }
      },
      "execution_count": null,
      "outputs": [
        {
          "output_type": "stream",
          "name": "stdout",
          "text": [
            "Cardápio:\n",
            "\n",
            "Doce: R$2.30\n",
            "Bala: R$0.15\n",
            "Pizza: R$28.90\n",
            "Arroz: R$4.50\n",
            "Paçoca: R$0.50\n",
            "Pamonha: R$5.40\n",
            "\n",
            "Digite o nome do item que você deseja comprar: Bala\n",
            "Você adicionou Bala ao seu pedido. Preço: R$0.15\n",
            "Você quer adicionar algo a mais? (sim/não): Sim\n",
            "\n",
            "Digite o nome do item que você deseja comprar: Arroz\n",
            "Você adicionou Arroz ao seu pedido. Preço: R$4.50\n",
            "Você quer adicionar algo a mais? (sim/não): Não\n",
            "\n",
            "O valor total da sua conta é: R$4.65\n"
          ]
        }
      ]
    },
    {
      "cell_type": "markdown",
      "source": [
        "# Lista Simples\n",
        "\n",
        "Diferentemente das tuplas, os elementos podem ser modificados. Além disso, ao invés de usar parenteses, usamos o colchetes para agrupar o seus elementos."
      ],
      "metadata": {
        "id": "FPpLtw9Pi6Xv"
      }
    },
    {
      "cell_type": "code",
      "source": [
        "l1 = [2,6,4,5,7]\n",
        "#append\n",
        "l1.append(7) # adiciona no final\n",
        "print(l1.append)\n",
        "\n",
        "# deletar posições\n",
        "\n",
        "del l1[3]\n",
        "# deleta a posição e também retorna um valor ao terminal, guardando.\n",
        "# var = lista.pop(pos)\n",
        "\n",
        "var = l1.pop(2)\n",
        "print(var)\n",
        "\n",
        "#remove = deleta a primeira que encontra o valor procurado\n",
        "\n",
        "remove = l1.remove(7)\n",
        "print(remove)\n",
        "\n",
        "# organizando\n",
        "sorted(l1)\n",
        "\n",
        "l1.sort\n",
        "\n"
      ],
      "metadata": {
        "colab": {
          "base_uri": "https://localhost:8080/"
        },
        "id": "zPwMKxjgi8xX",
        "outputId": "dd1ee8e1-b982-4b20-d9bc-9b1f43dca851"
      },
      "execution_count": null,
      "outputs": [
        {
          "output_type": "stream",
          "name": "stdout",
          "text": [
            "<built-in method append of list object at 0x795a6548abc0>\n",
            "4\n",
            "None\n"
          ]
        },
        {
          "output_type": "execute_result",
          "data": {
            "text/plain": [
              "<function list.sort(*, key=None, reverse=False)>"
            ]
          },
          "metadata": {},
          "execution_count": 12
        }
      ]
    },
    {
      "cell_type": "code",
      "source": [
        "# declarando listas em branco\n",
        "# criada para que o usuário possa adicionar itens\n",
        "\n",
        "lista[]\n",
        "lista = list()\n",
        "lista.append()\n",
        "\n",
        "# da pra criar uma lista com rage, onde a gente usa o r"
      ],
      "metadata": {
        "id": "1U8i3V-1lrNA"
      },
      "execution_count": null,
      "outputs": []
    },
    {
      "cell_type": "code",
      "source": [
        "# copiando e clonando listas\n",
        "\n",
        "l1 = [1,2,3,4,5,6,7,8,9]\n",
        "\n",
        "l2 = l1\n",
        "l2.pop()\n",
        "\n",
        "print(l1)\n",
        "print(l2)\n",
        "\n",
        "# por ser um clone, quando modifica um termo de uma lista, a clonagem também sofre essa alteração.\n"
      ],
      "metadata": {
        "colab": {
          "base_uri": "https://localhost:8080/"
        },
        "id": "b7M1l29ymRpx",
        "outputId": "944eb3bf-392f-4a59-ce6b-4246479c606c"
      },
      "execution_count": null,
      "outputs": [
        {
          "output_type": "stream",
          "name": "stdout",
          "text": [
            "[1, 2, 3, 4, 5, 6, 7, 8]\n",
            "[1, 2, 3, 4, 5, 6, 7, 8]\n"
          ]
        }
      ]
    },
    {
      "cell_type": "code",
      "source": [
        "# cópia\n",
        "l2 = l1[:]\n",
        "l2.pop()\n",
        "\n",
        "print(l1)\n",
        "print(l2)\n",
        "\n",
        "# colocando [:] copia a lista, mas as modificações realizadas em uma não impacta a outra."
      ],
      "metadata": {
        "colab": {
          "base_uri": "https://localhost:8080/"
        },
        "id": "v04YuG-vmwax",
        "outputId": "43c36712-9a9c-452a-9dd4-1ed4fb54e7a9"
      },
      "execution_count": null,
      "outputs": [
        {
          "output_type": "stream",
          "name": "stdout",
          "text": [
            "[1, 2, 3, 4, 5, 6, 7, 8]\n",
            "[1, 2, 3, 4, 5, 6, 7]\n"
          ]
        }
      ]
    },
    {
      "cell_type": "code",
      "source": [
        "# lista dentro de for\n",
        "\n",
        "l1 = [1,2,3,4,5]\n",
        "l2 = [6,7,8,9,0]\n",
        "l3 = []\n",
        "\n",
        "for i, valor in enumerate(l1):  # a soma dos termos da l1 + l2, gerando a l3\n",
        "  l3.append (l1[i] + l2[i])\n",
        "print(l3)"
      ],
      "metadata": {
        "colab": {
          "base_uri": "https://localhost:8080/"
        },
        "id": "F9MnJTbbnGbC",
        "outputId": "c6513589-c143-4fc2-ce05-578f578cd32b"
      },
      "execution_count": null,
      "outputs": [
        {
          "output_type": "stream",
          "name": "stdout",
          "text": [
            "[7, 9, 11, 13, 5]\n"
          ]
        }
      ]
    },
    {
      "cell_type": "code",
      "source": [
        "# variáveis diferentes\n",
        "\n",
        "l1 = [1,2,3,4,5]\n",
        "l2 = [6,7,8,9,0, 11]\n",
        "l3 = []\n",
        "for i, valor in enumerate(l1):  # o programa dá um erro porque a quantidade de variáveis na lista não é compatível.\n",
        "  l3.append (l1[i] + l2[i])\n",
        "print(l3)"
      ],
      "metadata": {
        "colab": {
          "base_uri": "https://localhost:8080/"
        },
        "id": "tLYEkxRmn9yL",
        "outputId": "f22ea21f-3830-4161-e413-81a15add7dfd"
      },
      "execution_count": null,
      "outputs": [
        {
          "output_type": "stream",
          "name": "stdout",
          "text": [
            "[7, 9, 11, 13, 5]\n"
          ]
        }
      ]
    },
    {
      "cell_type": "code",
      "source": [
        "# função zip = irá pegar a mesma posição das listas.\n",
        "\n",
        "l1 = [1,2,3,4,5]\n",
        "l2 = [6,7,8,9,0, 11]\n",
        "l3 = []\n",
        "for v1, v2 in zip(l1,l2):\n",
        "  print(f'v1 ={v1} e v2 = {v2}')\n",
        "  l3.append(v1 + v2)\n",
        "print(l3)"
      ],
      "metadata": {
        "colab": {
          "base_uri": "https://localhost:8080/"
        },
        "id": "yUDES4e_oT-H",
        "outputId": "c29e69e0-27e6-45a2-c1a3-614300099af5"
      },
      "execution_count": null,
      "outputs": [
        {
          "output_type": "stream",
          "name": "stdout",
          "text": [
            "v1 =1 e v2 = 6\n",
            "v1 =2 e v2 = 7\n",
            "v1 =3 e v2 = 8\n",
            "v1 =4 e v2 = 9\n",
            "v1 =5 e v2 = 0\n",
            "[7, 9, 11, 13, 5]\n"
          ]
        }
      ]
    },
    {
      "cell_type": "code",
      "source": [],
      "metadata": {
        "id": "RpGB6WSZpXoI"
      },
      "execution_count": null,
      "outputs": []
    },
    {
      "cell_type": "markdown",
      "source": [
        "# Listas Compostas\n",
        "\n",
        "Lista dentro de listas"
      ],
      "metadata": {
        "id": "xHDSr4kyuHRN"
      }
    },
    {
      "cell_type": "code",
      "source": [
        "# declarando com append e input\n",
        "\n",
        "cardapio = []\n",
        "comida = []\n",
        "\n",
        "for c in range(0,3):\n",
        "  comida.append(str(input('Digite o nome do produto: ')))   #solicito o que usuário digite as informações\n",
        "  comida.append(float(input('Digite o preço do produto: ')))\n",
        "  cardapio.append(comida[:])                                #adiciono os item informados pelo usuário em comida, no cardápio.\n",
        "  comida.clear()                                            # limpar a memória davariável\n",
        "\n",
        "print(cardapio)"
      ],
      "metadata": {
        "colab": {
          "base_uri": "https://localhost:8080/"
        },
        "id": "CyMNci2buNWz",
        "outputId": "ab6767b3-b807-4f4c-ef58-b9c8ed00a0dc"
      },
      "execution_count": null,
      "outputs": [
        {
          "output_type": "stream",
          "name": "stdout",
          "text": [
            "Digite o nome do produto: batata\n",
            "Digite o preço do produto: 3.9\n",
            "Digite o nome do produto: macarrão\n",
            "Digite o preço do produto: 4.0\n",
            "Digite o nome do produto: arroz\n",
            "Digite o preço do produto: 7.75\n",
            "[['batata', 3.9], ['macarrão', 4.0], ['arroz', 7.75]]\n"
          ]
        }
      ]
    }
  ]
}